{
 "cells": [
  {
   "cell_type": "code",
   "execution_count": 11,
   "metadata": {},
   "outputs": [
    {
     "data": {
      "text/plain": [
       "'./处理后的农作物种植情况数据.xlsx'"
      ]
     },
     "execution_count": 11,
     "metadata": {},
     "output_type": "execute_result"
    }
   ],
   "source": [
    "import pandas as pd\n",
    "\n",
    "file_crop_sales = './2023年的农作物种植情况.xlsx'\n",
    "\n",
    "df_crop_sales = pd.read_excel(file_crop_sales)\n",
    "\n",
    "# 提取“销售单价/(元/斤)”中的信息并添加最低单价、最高单价、平均值三列\n",
    "# 这里我们假设“销售单价/(元/斤)”列中的数据是范围格式的，例如 \"2.50-4.00\"\n",
    "\n",
    "# 定义一个函数来提取最低值、最高值和平均值\n",
    "def extract_price_info(price_range):\n",
    "    if isinstance(price_range, str) and '-' in price_range:\n",
    "        low, high = map(float, price_range.split('-'))\n",
    "        avg = (low + high) / 2\n",
    "        return pd.Series([low, high, avg])\n",
    "    else:\n",
    "        return pd.Series([None, None, None])\n",
    "\n",
    "# 应用函数到“销售单价/(元/斤)”列并创建新的列\n",
    "df_crop_sales[['最低单价', '最高单价', '平均单价']] = df_crop_sales['销售单价/(元/斤)'].apply(extract_price_info)\n",
    "\n",
    "# 将处理后的数据保存到新的Excel文件中\n",
    "output_file_path_crop_sales = './处理后的农作物种植情况数据.xlsx'\n",
    "df_crop_sales.to_excel(output_file_path_crop_sales, index=False)\n",
    "\n",
    "output_file_path_crop_sales\n",
    "\n"
   ]
  },
  {
   "cell_type": "code",
   "execution_count": 19,
   "metadata": {},
   "outputs": [
    {
     "data": {
      "text/plain": [
       "'./粮食种类1.xlsx'"
      ]
     },
     "execution_count": 19,
     "metadata": {},
     "output_type": "execute_result"
    }
   ],
   "source": [
    "# 加载用户上传的表格文件\n",
    "file_grain = './粮食种类.xlsx'\n",
    "\n",
    "# 读取Excel数据\n",
    "df_grain = pd.read_excel(file_grain)\n",
    "\n",
    "# 添加一列“是否是豆类”，如果“作物类型”中括号里包含\"豆类\"，则该列为1，否则为0\n",
    "df_grain['是否是豆类'] = df_grain['作物类型'].apply(lambda x: 1 if '豆类' in x else 0)\n",
    "\n",
    "# 保存新的表格为“粮食种类1”\n",
    "output_file_grain = './粮食种类1.xlsx'\n",
    "df_grain.to_excel(output_file_grain, index=False)\n",
    "\n",
    "output_file_grain\n"
   ]
  },
  {
   "cell_type": "code",
   "execution_count": 22,
   "metadata": {},
   "outputs": [
    {
     "data": {
      "text/plain": [
       "'./23年农作物价格表.xlsx'"
      ]
     },
     "execution_count": 22,
     "metadata": {},
     "output_type": "execute_result"
    }
   ],
   "source": [
    "# 加载用户提供的两个Excel文件\n",
    "file_processed_crop_data = './处理后的农作物种植情况数据.xlsx'\n",
    "file_vegetable_data = './粮食种类1.xlsx'\n",
    "\n",
    "# 读取Excel数据\n",
    "df_processed_crop_data = pd.read_excel(file_processed_crop_data, engine='openpyxl')\n",
    "df_vegetable_data = pd.read_excel(file_vegetable_data, engine='openpyxl')\n",
    "\n",
    "# 基于“作物编号”列将两个表合并，将第二个表中的“作物类型”列加到第一个表中\n",
    "# 左连接保留第一个表中的所有数据\n",
    "final_price_table = pd.merge(df_processed_crop_data, df_vegetable_data[['作物编号', '作物类型','是否是豆类']], on='作物编号', how='left')\n",
    "\n",
    "# 将合并后的数据保存到新的Excel文件中\n",
    "output_final_price_table = './23年农作物价格表.xlsx'\n",
    "final_price_table.to_excel(output_final_price_table, index=False)\n",
    "\n",
    "output_final_price_table\n"
   ]
  },
  {
   "cell_type": "code",
   "execution_count": 4,
   "metadata": {},
   "outputs": [],
   "source": [
    "import pandas as pd\n",
    "\n",
    "# 加载 Excel 文件\n",
    "file_path = './每亩利润_2023年统计的相关数据.xlsx'\n",
    "df = pd.read_excel(file_path)\n",
    "\n",
    "# 删除重复的行\n",
    "df_cleaned = df.drop_duplicates()\n",
    "\n",
    "# 将清理后的数据保存到新的Excel文件中\n",
    "output_file_path = './清理后的每亩利润数据.xlsx'\n",
    "df_cleaned.to_excel(output_file_path, index=False)\n"
   ]
  },
  {
   "cell_type": "code",
   "execution_count": 6,
   "metadata": {},
   "outputs": [
    {
     "data": {
      "text/plain": [
       "'./合并后的蔬菜种植地块类型数据.xlsx'"
      ]
     },
     "execution_count": 6,
     "metadata": {},
     "output_type": "execute_result"
    }
   ],
   "source": [
    "# 加载用户提供的更新后的两个Excel文件\n",
    "file_vegetable_updated = './2023年各类蔬菜种植情况.xlsx'\n",
    "file_farm_land_updated = './乡村现有耕地.xlsx'\n",
    "\n",
    "# 读取蔬菜种植情况和乡村耕地信息的数据表\n",
    "df_vegetable_updated = pd.read_excel(file_vegetable_updated)\n",
    "df_farm_land_updated = pd.read_excel(file_farm_land_updated)\n",
    "\n",
    "# 尝试基于蔬菜种植地块和耕地地块信息合并\n",
    "# 假设蔬菜数据中的列为“种植地块”，耕地数据中的列为“利植地块”\n",
    "# 这里我们先检查两个表格中的列名以确保可以进行合并\n",
    "df_vegetable_updated.columns, df_farm_land_updated.columns\n",
    "\n",
    "# 使用“种植地块”和“地块名称”列进行合并操作，并保留地块类型信息\n",
    "# 基于蔬菜种植数据添加乡村耕地的地块类型信息\n",
    "\n",
    "# 合并蔬菜数据和耕地数据，左连接保留蔬菜表中的所有数据\n",
    "merged_df_updated = pd.merge(df_vegetable_updated, df_farm_land_updated, how='left', left_on='种植地块', right_on='地块名称')\n",
    "\n",
    "\n",
    "# 将合并后的数据保存到一个新的Excel文件中\n",
    "output_file_path_updated = './合并后的蔬菜种植地块类型数据.xlsx'\n",
    "merged_df_updated.to_excel(output_file_path_updated, index=False)\n",
    "\n",
    "output_file_path_updated\n"
   ]
  },
  {
   "cell_type": "code",
   "execution_count": 23,
   "metadata": {},
   "outputs": [
    {
     "data": {
      "text/plain": [
       "'./最终合并的蔬菜种植和利润数据.xlsx'"
      ]
     },
     "execution_count": 23,
     "metadata": {},
     "output_type": "execute_result"
    }
   ],
   "source": [
    "# 载入合并后的蔬菜种植数据和清理后的每亩利润数据\n",
    "file_merged_vegetable = './合并后的蔬菜种植地块类型数据.xlsx'\n",
    "file_profit_cleaned = './每亩利润_2023年统计的相关数据.xlsx'\n",
    "\n",
    "# 读取数据\n",
    "df_merged_vegetable = pd.read_excel(file_merged_vegetable)\n",
    "df_profit_cleaned = pd.read_excel(file_profit_cleaned)\n",
    "\n",
    "# 进行基于作物名称和地块类型的合并操作\n",
    "# 将利润数据的“加权单价/(元/斤)”和“每亩利润”添加到蔬菜种植数据中\n",
    "final_merged_df = pd.merge(df_merged_vegetable, df_profit_cleaned[['作物名称', '地块类型','是否是豆类', '加权单价/(元/斤)', '每亩利润']],\n",
    "                           how='left', on=['作物名称', '地块类型'])\n",
    "\n",
    "# 将最终合并的数据保存到一个新的Excel文件中\n",
    "output_file_path_final = './最终合并的蔬菜种植和利润数据.xlsx'\n",
    "final_merged_df.to_excel(output_file_path_final, index=False)\n",
    "\n",
    "output_file_path_final\n"
   ]
  },
  {
   "cell_type": "code",
   "execution_count": 25,
   "metadata": {},
   "outputs": [],
   "source": [
    "import pandas as pd\n",
    "\n",
    "# 加载 Excel 文件\n",
    "file_path = './2023各项数据综合.xlsx'\n",
    "excel_data = pd.ExcelFile(file_path)\n",
    "\n",
    "# 从第一个工作表中加载数据\n",
    "df = pd.read_excel(file_path, sheet_name='Sheet1')\n",
    "\n",
    "# 计算 '预售量/亩' 的值，公式为 '种植面积/亩' * 0.792\n",
    "df['预售量/亩'] = df['种植面积/亩'] * 0.792\n",
    "\n",
    "# 将更新后的数据保存到新的 Excel 文件\n",
    "output_file_path = './更新后的数据.xlsx'\n",
    "df.to_excel(output_file_path, index=False)\n"
   ]
  },
  {
   "cell_type": "code",
   "execution_count": 26,
   "metadata": {},
   "outputs": [],
   "source": [
    "import pandas as pd\n",
    "\n",
    "# 加载 Excel 文件\n",
    "file_path = './2023年农作物各类数据最终版.xlsx'\n",
    "excel_data = pd.ExcelFile(file_path)\n",
    "\n",
    "# 从第一个工作表中加载数据\n",
    "df = pd.read_excel(file_path, sheet_name='Sheet1')\n",
    "\n",
    "# 计算 '预售量/亩' 的值，公式为 '种植面积/亩' * 0.792\n",
    "df['总利润'] = df['预售量/亩'] * df['每亩利润']\n",
    "\n",
    "# 将更新后的数据保存到新的 Excel 文件\n",
    "output_file_path = './2023年农作物各类数据最终版1.1.xlsx'\n",
    "df.to_excel(output_file_path, index=False)\n"
   ]
  },
  {
   "cell_type": "markdown",
   "metadata": {},
   "source": [
    "# 第一问\n"
   ]
  },
  {
   "cell_type": "code",
   "execution_count": 38,
   "metadata": {},
   "outputs": [
    {
     "data": {
      "image/png": "[encoded data removed]",
      "text/plain": [
       "<Figure size 1000x600 with 1 Axes>"
      ]
     },
     "metadata": {},
     "output_type": "display_data"
    }
   ],
   "source": [
    "import pandas as pd\n",
    "import matplotlib.pyplot as plt\n",
    "\n",
    "# 读取数据\n",
    "file_path = './2023年农作物各类数据最终版1.1.xlsx'\n",
    "data = pd.read_excel(file_path, sheet_name='Sheet1')\n",
    "\n",
    "\n",
    "# 按作物类型分组，并计算每组的平均每亩利润\n",
    "average_profit = data.groupby('作物类型')['每亩利润'].mean().reset_index()\n",
    "\n",
    "# 设置中文字体\n",
    "plt.rcParams['font.sans-serif'] = ['SimHei']  # 设置字体为黑体\n",
    "plt.rcParams['axes.unicode_minus'] = False  # 正常显示负号\n",
    "\n",
    "# 绘制柱状图\n",
    "plt.figure(figsize=(10, 6))\n",
    "plt.bar(average_profit['作物类型'], average_profit['每亩利润'])\n",
    "plt.xlabel('作物类型')  # X轴标签\n",
    "plt.ylabel('平均每亩利润')  # Y轴标签\n",
    "plt.title('不同作物类型的平均每亩利润')  # 图表标题\n",
    "plt.show()\n"
   ]
  },
  {
   "cell_type": "code",
   "execution_count": 39,
   "metadata": {},
   "outputs": [
    {
     "data": {
      "image/png": "[encoded data removed]",
      "text/plain": [
       "<Figure size 1000x600 with 1 Axes>"
      ]
     },
     "metadata": {},
     "output_type": "display_data"
    }
   ],
   "source": [
    "import pandas as pd\n",
    "import matplotlib.pyplot as plt\n",
    "\n",
    "# 读取数据\n",
    "file_path = './2023年农作物各类数据最终版1.1.xlsx'\n",
    "data = pd.read_excel(file_path, sheet_name='Sheet1')\n",
    "\n",
    "# 按作物类型分组，并计算每组的平均每亩利润\n",
    "average_profit = data.groupby('作物类型')['每亩利润'].mean().reset_index()\n",
    "\n",
    "# 设置中文字体\n",
    "plt.rcParams['font.sans-serif'] = ['SimHei']  # 设置字体为黑体\n",
    "plt.rcParams['axes.unicode_minus'] = False  # 正常显示负号\n",
    "\n",
    "# 绘制柱状图\n",
    "plt.figure(figsize=(10, 6))\n",
    "bars = plt.bar(average_profit['作物类型'], average_profit['每亩利润'], width=0.5, color=['#FF9999','#66B3FF','#99FF99'])\n",
    "\n",
    "# 添加数据标签\n",
    "for bar in bars:\n",
    "    yval = bar.get_height()\n",
    "    plt.text(bar.get_x() + bar.get_width()/2, yval + 500, round(yval, 2), ha='center', va='bottom', fontsize=12)\n",
    "\n",
    "# 调整X轴和Y轴\n",
    "plt.ylim(0, max(average_profit['每亩利润']) * 1.1)  # 调整Y轴范围，使图像更紧凑\n",
    "plt.xlabel('作物类型', fontsize=14)  # X轴标签\n",
    "plt.ylabel('平均每亩利润', fontsize=14)  # Y轴标签\n",
    "plt.title('不同作物类型的平均每亩利润', fontsize=16)  # 图表标题\n",
    "\n",
    "# 显示图像\n",
    "plt.tight_layout()\n",
    "plt.show()\n"
   ]
  },
  {
   "cell_type": "code",
   "execution_count": 1,
   "metadata": {},
   "outputs": [
    {
     "ename": "TypeError",
     "evalue": "'>' not supported between instances of 'str' and 'int'",
     "output_type": "error",
     "traceback": [
      "\u001b[1;31m---------------------------------------------------------------------------\u001b[0m",
      "\u001b[1;31mTypeError\u001b[0m                                 Traceback (most recent call last)",
      "Cell \u001b[1;32mIn[1], line 42\u001b[0m\n\u001b[0;32m     39\u001b[0m         crops_to_plant\u001b[38;5;241m.\u001b[39mappend(legume_crop)\n\u001b[0;32m     41\u001b[0m \u001b[38;5;66;03m# 避免连续两年种植相同作物\u001b[39;00m\n\u001b[1;32m---> 42\u001b[0m last_year_crops \u001b[38;5;241m=\u001b[39m previous_year_data\u001b[38;5;241m.\u001b[39mloc[i, previous_year_data\u001b[38;5;241m.\u001b[39mloc[i] \u001b[38;5;241m>\u001b[39m \u001b[38;5;241m0\u001b[39m]\u001b[38;5;241m.\u001b[39mindex\u001b[38;5;241m.\u001b[39mtolist()\n\u001b[0;32m     43\u001b[0m current_crops \u001b[38;5;241m=\u001b[39m [crop \u001b[38;5;28;01mfor\u001b[39;00m crop \u001b[38;5;129;01min\u001b[39;00m last_year_crops \u001b[38;5;28;01mif\u001b[39;00m crop \u001b[38;5;129;01mnot\u001b[39;00m \u001b[38;5;129;01min\u001b[39;00m legumes \u001b[38;5;129;01mor\u001b[39;00m (year \u001b[38;5;241m-\u001b[39m \u001b[38;5;241m2023\u001b[39m) \u001b[38;5;241m%\u001b[39m \u001b[38;5;241m3\u001b[39m \u001b[38;5;241m!=\u001b[39m \u001b[38;5;241m0\u001b[39m]\n\u001b[0;32m     45\u001b[0m \u001b[38;5;66;03m# 选择新的作物\u001b[39;00m\n",
      "File \u001b[1;32mD:\\anconda\\Lib\\site-packages\\pandas\\core\\ops\\common.py:72\u001b[0m, in \u001b[0;36m_unpack_zerodim_and_defer.<locals>.new_method\u001b[1;34m(self, other)\u001b[0m\n\u001b[0;32m     68\u001b[0m             \u001b[38;5;28;01mreturn\u001b[39;00m \u001b[38;5;28mNotImplemented\u001b[39m\n\u001b[0;32m     70\u001b[0m other \u001b[38;5;241m=\u001b[39m item_from_zerodim(other)\n\u001b[1;32m---> 72\u001b[0m \u001b[38;5;28;01mreturn\u001b[39;00m method(\u001b[38;5;28mself\u001b[39m, other)\n",
      "File \u001b[1;32mD:\\anconda\\Lib\\site-packages\\pandas\\core\\arraylike.py:58\u001b[0m, in \u001b[0;36mOpsMixin.__gt__\u001b[1;34m(self, other)\u001b[0m\n\u001b[0;32m     56\u001b[0m \u001b[38;5;129m@unpack_zerodim_and_defer\u001b[39m(\u001b[38;5;124m\"\u001b[39m\u001b[38;5;124m__gt__\u001b[39m\u001b[38;5;124m\"\u001b[39m)\n\u001b[0;32m     57\u001b[0m \u001b[38;5;28;01mdef\u001b[39;00m \u001b[38;5;21m__gt__\u001b[39m(\u001b[38;5;28mself\u001b[39m, other):\n\u001b[1;32m---> 58\u001b[0m     \u001b[38;5;28;01mreturn\u001b[39;00m \u001b[38;5;28mself\u001b[39m\u001b[38;5;241m.\u001b[39m_cmp_method(other, operator\u001b[38;5;241m.\u001b[39mgt)\n",
      "File \u001b[1;32mD:\\anconda\\Lib\\site-packages\\pandas\\core\\series.py:6243\u001b[0m, in \u001b[0;36mSeries._cmp_method\u001b[1;34m(self, other, op)\u001b[0m\n\u001b[0;32m   6240\u001b[0m rvalues \u001b[38;5;241m=\u001b[39m extract_array(other, extract_numpy\u001b[38;5;241m=\u001b[39m\u001b[38;5;28;01mTrue\u001b[39;00m, extract_range\u001b[38;5;241m=\u001b[39m\u001b[38;5;28;01mTrue\u001b[39;00m)\n\u001b[0;32m   6242\u001b[0m \u001b[38;5;28;01mwith\u001b[39;00m np\u001b[38;5;241m.\u001b[39merrstate(\u001b[38;5;28mall\u001b[39m\u001b[38;5;241m=\u001b[39m\u001b[38;5;124m\"\u001b[39m\u001b[38;5;124mignore\u001b[39m\u001b[38;5;124m\"\u001b[39m):\n\u001b[1;32m-> 6243\u001b[0m     res_values \u001b[38;5;241m=\u001b[39m ops\u001b[38;5;241m.\u001b[39mcomparison_op(lvalues, rvalues, op)\n\u001b[0;32m   6245\u001b[0m \u001b[38;5;28;01mreturn\u001b[39;00m \u001b[38;5;28mself\u001b[39m\u001b[38;5;241m.\u001b[39m_construct_result(res_values, name\u001b[38;5;241m=\u001b[39mres_name)\n",
      "File \u001b[1;32mD:\\anconda\\Lib\\site-packages\\pandas\\core\\ops\\array_ops.py:287\u001b[0m, in \u001b[0;36mcomparison_op\u001b[1;34m(left, right, op)\u001b[0m\n\u001b[0;32m    284\u001b[0m     \u001b[38;5;28;01mreturn\u001b[39;00m invalid_comparison(lvalues, rvalues, op)\n\u001b[0;32m    286\u001b[0m \u001b[38;5;28;01melif\u001b[39;00m is_object_dtype(lvalues\u001b[38;5;241m.\u001b[39mdtype) \u001b[38;5;129;01mor\u001b[39;00m \u001b[38;5;28misinstance\u001b[39m(rvalues, \u001b[38;5;28mstr\u001b[39m):\n\u001b[1;32m--> 287\u001b[0m     res_values \u001b[38;5;241m=\u001b[39m comp_method_OBJECT_ARRAY(op, lvalues, rvalues)\n\u001b[0;32m    289\u001b[0m \u001b[38;5;28;01melse\u001b[39;00m:\n\u001b[0;32m    290\u001b[0m     res_values \u001b[38;5;241m=\u001b[39m _na_arithmetic_op(lvalues, rvalues, op, is_cmp\u001b[38;5;241m=\u001b[39m\u001b[38;5;28;01mTrue\u001b[39;00m)\n",
      "File \u001b[1;32mD:\\anconda\\Lib\\site-packages\\pandas\\core\\ops\\array_ops.py:75\u001b[0m, in \u001b[0;36mcomp_method_OBJECT_ARRAY\u001b[1;34m(op, x, y)\u001b[0m\n\u001b[0;32m     73\u001b[0m     result \u001b[38;5;241m=\u001b[39m libops\u001b[38;5;241m.\u001b[39mvec_compare(x\u001b[38;5;241m.\u001b[39mravel(), y\u001b[38;5;241m.\u001b[39mravel(), op)\n\u001b[0;32m     74\u001b[0m \u001b[38;5;28;01melse\u001b[39;00m:\n\u001b[1;32m---> 75\u001b[0m     result \u001b[38;5;241m=\u001b[39m libops\u001b[38;5;241m.\u001b[39mscalar_compare(x\u001b[38;5;241m.\u001b[39mravel(), y, op)\n\u001b[0;32m     76\u001b[0m \u001b[38;5;28;01mreturn\u001b[39;00m result\u001b[38;5;241m.\u001b[39mreshape(x\u001b[38;5;241m.\u001b[39mshape)\n",
      "File \u001b[1;32mD:\\anconda\\Lib\\site-packages\\pandas\\_libs\\ops.pyx:107\u001b[0m, in \u001b[0;36mpandas._libs.ops.scalar_compare\u001b[1;34m()\u001b[0m\n",
      "\u001b[1;31mTypeError\u001b[0m: '>' not supported between instances of 'str' and 'int'"
     ]
    }
   ],
   "source": [
    "import pandas as pd\n",
    "import numpy as np\n",
    "\n",
    "# 读取2023年数据\n",
    "file_path = './2023年ABC地块数据.xlsx'\n",
    "data_2023 = pd.read_excel(file_path)\n",
    "\n",
    "# 清理列名，去除空白字符等问题\n",
    "data_2023.columns = data_2023.columns.str.strip()\n",
    "\n",
    "# 将所有作物列转换为数值类型，无法转换的值填充为0\n",
    "data_2023.iloc[:, 2:] = data_2023.iloc[:, 2:].apply(pd.to_numeric, errors='coerce').fillna(0)\n",
    "\n",
    "# 豆类作物列表，包括黄豆、黑豆、红豆、绿豆、爬豆\n",
    "legumes = [\"黄豆（豆类）\", \"黑豆（豆类）\", \"红豆（豆类）\", \"绿豆（豆类）\", \"爬豆（豆类）\"]\n",
    "\n",
    "# 获取2023年的作物总面积\n",
    "crop_totals = data_2023.iloc[:, 2:].sum()\n",
    "\n",
    "# 初始化存储生成数据的字典\n",
    "result_dfs = {}\n",
    "\n",
    "# 生成2024-2030年的数据\n",
    "previous_year_data = data_2023.copy()\n",
    "years = list(range(2024, 2031))\n",
    "\n",
    "for year in years:\n",
    "    # 初始化一个新的表格\n",
    "    df_new = previous_year_data.copy()\n",
    "    \n",
    "    for i, row in df_new.iterrows():\n",
    "        # 确保每块地种植的作物种类尽量少\n",
    "        crops_to_plant = []\n",
    "        if (year - 2023) % 3 == 0:\n",
    "            # 每三年种植一次豆类\n",
    "            possible_legumes = [legume for legume in legumes if legume in previous_year_data.columns]\n",
    "            if all(previous_year_data.loc[i, legume] == 0 for legume in possible_legumes):\n",
    "                legume_crop = np.random.choice(possible_legumes)\n",
    "                crops_to_plant.append(legume_crop)\n",
    "        \n",
    "        # 避免连续两年种植相同作物\n",
    "        last_year_crops = previous_year_data.loc[i, previous_year_data.loc[i] > 0].index.tolist()\n",
    "        current_crops = [crop for crop in last_year_crops if crop not in legumes or (year - 2023) % 3 != 0]\n",
    "\n",
    "        # 选择新的作物\n",
    "        if crops_to_plant:\n",
    "            chosen_crop = crops_to_plant[0]\n",
    "            df_new.loc[i, chosen_crop] = crop_totals[chosen_crop] / len(df_new)\n",
    "        else:\n",
    "            available_crops = [crop for crop in crop_totals.index if crop in df_new.columns and crop not in current_crops]\n",
    "            if available_crops:\n",
    "                chosen_crop = np.random.choice(available_crops)\n",
    "                df_new.loc[i, chosen_crop] = crop_totals[chosen_crop] / len(df_new)\n",
    "\n",
    "    # 归一化每种作物的面积，以保持与2023年的总面积一致\n",
    "    for crop in crop_totals.index:\n",
    "        if crop in df_new.columns:\n",
    "            df_new[crop] = df_new[crop] / df_new[crop].sum() * crop_totals[crop]\n",
    "\n",
    "    # 更新生成的数据到结果字典中\n",
    "    result_dfs[year] = df_new\n",
    "    previous_year_data = df_new.copy()\n",
    "\n",
    "# 保存生成的7个Excel文件\n",
    "file_paths = []\n",
    "for year, df in result_dfs.items():\n",
    "    output_path = f'./{year}年ABC地块数据.xlsx'\n",
    "    df.to_excel(output_path, index=False)\n",
    "    file_paths.append(output_path)\n",
    "\n",
    "file_paths"
   ]
  },
  {
   "cell_type": "code",
   "execution_count": null,
   "metadata": {},
   "outputs": [],
   "source": [
    "import pandas as pd\n",
    "import numpy as np\n",
    "\n",
    "# 读取2023年的数据\n",
    "data_2023 = pd.read_excel('/mnt/data/2023年农作物各类数据最终版1.1.xlsx')\n",
    "\n",
    "# 假设成本和收益数据来自表格\n",
    "# 这里我们用单亩利润、预计销售量等信息来计算总利润\n",
    "def calculate_profit(solution, excess_policy):\n",
    "    total_profit = 0\n",
    "    total_excess_penalty = 0\n",
    "    for index, row in solution.iterrows():\n",
    "        crop_name = row['作物名称']\n",
    "        area = row['种植面积']\n",
    "        if area < 0.1:  # 加入面积下限限制\n",
    "            continue\n",
    "        per_acre_profit = row['每亩利润']\n",
    "        estimated_sales = row['预售量']\n",
    "        total_yield = area * per_acre_profit  # 假设产量直接和利润相关\n",
    "        \n",
    "        if total_yield > estimated_sales:\n",
    "            excess = total_yield - estimated_sales\n",
    "            if excess_policy == 'waste':\n",
    "                total_excess_penalty += excess * per_acre_profit  # 滞销损失\n",
    "            elif excess_policy == 'discount':\n",
    "                total_excess_penalty += excess * per_acre_profit * 0.5  # 降价处理\n",
    "        total_profit += total_yield * per_acre_profit\n",
    "    \n",
    "    return total_profit - total_excess_penalty\n",
    "\n",
    "# 初始化解（假设种植的作物和面积）\n",
    "def initialize_solution(data):\n",
    "    solution = data.copy()\n",
    "    # 生成合理的种植方案，并确保每块地的种植面积不小于 0.1 亩\n",
    "    solution['种植面积'] = np.random.uniform(0.1, solution['种植面积'].max(), size=len(solution))\n",
    "    return solution\n",
    "\n",
    "# 定义蜂群算法的目标函数\n",
    "def objective_function(solution):\n",
    "    # 返回一个负值，因为我们希望最大化利润，最小化损失\n",
    "    return -calculate_profit(solution, 'waste')\n",
    "\n",
    "# 初始化种群并执行蜂群算法\n",
    "def bee_algorithm(data, num_iterations=100, population_size=50):\n",
    "    best_solution = None\n",
    "    best_profit = float('-inf')\n",
    "    \n",
    "    for iteration in range(num_iterations):\n",
    "        for i in range(population_size):\n",
    "            solution = initialize_solution(data)\n",
    "            profit = objective_function(solution)\n",
    "            if profit > best_profit:\n",
    "                best_solution = solution\n",
    "                best_profit = profit\n",
    "        # 更新种群（局部搜索+全局搜索）\n",
    "        # 实现蜂群算法的邻域搜索和全局搜索部分\n",
    "    \n",
    "    return best_solution, best_profit\n",
    "\n",
    "# 调用蜂群算法，并预测未来七年的种植方案\n",
    "yearly_solutions = []\n",
    "yearly_profits = []\n",
    "\n",
    "# 对2024-2030年分别进行优化\n",
    "for year in range(2024, 2031):\n",
    "    print(f\"Optimizing for year {year}...\")\n",
    "    optimal_solution, optimal_profit = bee_algorithm(data_2023)\n",
    "    yearly_solutions.append(optimal_solution)\n",
    "    yearly_profits.append(optimal_profit)\n",
    "\n",
    "    # 将结果保存到每一年的页面中\n",
    "    optimal_solution.to_excel(f'/mnt/data/optimized_result_year_{year}.xlsx', index=False)\n",
    "\n",
    "# 输出每年的最大收益\n",
    "for year, profit in zip(range(2024, 2031), yearly_profits):\n",
    "    print(f\"Year {year}: Maximum Profit = {profit}\")\n"
   ]
  },
  {
   "cell_type": "markdown",
   "metadata": {},
   "source": []
  }
 ],
 "metadata": {
  "kernelspec": {
   "display_name": "Python 3 (ipykernel)",
   "language": "python",
   "name": "python3"
  },
  "language_info": {
   "codemirror_mode": {
    "name": "ipython",
    "version": 3
   },
   "file_extension": ".py",
   "mimetype": "text/x-python",
   "name": "python",
   "nbconvert_exporter": "python",
   "pygments_lexer": "ipython3",
   "version": "3.11.4"
  }
 },
 "nbformat": 4,
 "nbformat_minor": 2
}
